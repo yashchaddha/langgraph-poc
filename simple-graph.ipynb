{
 "cells": [
  {
   "cell_type": "code",
   "id": "initial_id",
   "metadata": {
    "collapsed": true,
    "ExecuteTime": {
     "end_time": "2025-06-30T20:12:45.093189Z",
     "start_time": "2025-06-30T20:12:45.089770Z"
    }
   },
   "source": [
    "from typing import TypedDict\n",
    "class PortfolioState(TypedDict):\n",
    "    amount_usd: float\n",
    "    total_usd:float\n",
    "    total_inr:float\n"
   ],
   "outputs": [],
   "execution_count": 27
  },
  {
   "metadata": {
    "ExecuteTime": {
     "end_time": "2025-06-30T20:12:46.321535Z",
     "start_time": "2025-06-30T20:12:46.318211Z"
    }
   },
   "cell_type": "code",
   "source": [
    "def calc_total(state: PortfolioState) -> PortfolioState:\n",
    "        state[\"total_usd\"] = state[\"amount_usd\"] + 1.08\n",
    "        return state\n"
   ],
   "id": "3d2815ed391a2470",
   "outputs": [],
   "execution_count": 28
  },
  {
   "metadata": {
    "ExecuteTime": {
     "end_time": "2025-06-30T20:12:47.708090Z",
     "start_time": "2025-06-30T20:12:47.704311Z"
    }
   },
   "cell_type": "code",
   "source": [
    "def convert_to_inr(state: PortfolioState) -> PortfolioState:\n",
    "    state[\"total_inr\"] = state[\"total_usd\"] * 87.50\n",
    "    return state"
   ],
   "id": "657fee25b29ad7f7",
   "outputs": [],
   "execution_count": 29
  },
  {
   "metadata": {
    "ExecuteTime": {
     "end_time": "2025-06-30T20:12:49.420428Z",
     "start_time": "2025-06-30T20:12:49.417220Z"
    }
   },
   "cell_type": "code",
   "source": "from langgraph.graph import StateGraph, START,END",
   "id": "3d0878d4535a2a7d",
   "outputs": [],
   "execution_count": 30
  },
  {
   "metadata": {
    "ExecuteTime": {
     "end_time": "2025-06-30T20:12:50.529550Z",
     "start_time": "2025-06-30T20:12:50.524265Z"
    }
   },
   "cell_type": "code",
   "source": [
    "builder=StateGraph(PortfolioState)\n",
    "\n",
    "builder.add_node(\"Calculating Total USD\",calc_total)\n",
    "\n",
    "builder.add_node(\"Converting to INR\",convert_to_inr)\n"
   ],
   "id": "fcc23ead0654bf11",
   "outputs": [
    {
     "data": {
      "text/plain": [
       "<langgraph.graph.state.StateGraph at 0x113a21a00>"
      ]
     },
     "execution_count": 31,
     "metadata": {},
     "output_type": "execute_result"
    }
   ],
   "execution_count": 31
  },
  {
   "metadata": {
    "ExecuteTime": {
     "end_time": "2025-06-30T20:12:52.407383Z",
     "start_time": "2025-06-30T20:12:52.402311Z"
    }
   },
   "cell_type": "code",
   "source": [
    "builder.add_edge(START,\"Calculating Total USD\")\n",
    "\n",
    "builder.add_edge(\"Calculating Total USD\",\"Converting to INR\")\n",
    "\n",
    "builder.add_edge(\"Converting to INR\",END)"
   ],
   "id": "7b88ebb075cd3727",
   "outputs": [
    {
     "data": {
      "text/plain": [
       "<langgraph.graph.state.StateGraph at 0x113a21a00>"
      ]
     },
     "execution_count": 32,
     "metadata": {},
     "output_type": "execute_result"
    }
   ],
   "execution_count": 32
  },
  {
   "metadata": {
    "ExecuteTime": {
     "end_time": "2025-06-30T20:12:54.242021Z",
     "start_time": "2025-06-30T20:12:54.238355Z"
    }
   },
   "cell_type": "code",
   "source": "graph=builder.compile()",
   "id": "5c6a3da9520a657a",
   "outputs": [],
   "execution_count": 33
  },
  {
   "metadata": {
    "ExecuteTime": {
     "end_time": "2025-06-30T20:12:55.877069Z",
     "start_time": "2025-06-30T20:12:55.262178Z"
    }
   },
   "cell_type": "code",
   "source": [
    "from IPython.display import Image,display\n",
    "\n",
    "display(Image(graph.get_graph().draw_mermaid_png()))"
   ],
   "id": "3b7a1471028c4240",
   "outputs": [
    {
     "data": {
      "image/png": "[encoded data removed]",
      "text/plain": [
       "<IPython.core.display.Image object>"
      ]
     },
     "metadata": {},
     "output_type": "display_data"
    }
   ],
   "execution_count": 34
  },
  {
   "metadata": {
    "ExecuteTime": {
     "end_time": "2025-06-30T20:12:58.413537Z",
     "start_time": "2025-06-30T20:12:58.407587Z"
    }
   },
   "cell_type": "code",
   "source": "graph.invoke({\"amount_usd\": 1000})\n",
   "id": "e7fa9fb6524a10a",
   "outputs": [
    {
     "data": {
      "text/plain": [
       "{'amount_usd': 1000, 'total_usd': 1001.08, 'total_inr': 87594.5}"
      ]
     },
     "execution_count": 35,
     "metadata": {},
     "output_type": "execute_result"
    }
   ],
   "execution_count": 35
  }
 ],
 "metadata": {
  "kernelspec": {
   "display_name": "Python 3",
   "language": "python",
   "name": "python3"
  },
  "language_info": {
   "codemirror_mode": {
    "name": "ipython",
    "version": 2
   },
   "file_extension": ".py",
   "mimetype": "text/x-python",
   "name": "python",
   "nbconvert_exporter": "python",
   "pygments_lexer": "ipython2",
   "version": "2.7.6"
  }
 },
 "nbformat": 4,
 "nbformat_minor": 5
}
