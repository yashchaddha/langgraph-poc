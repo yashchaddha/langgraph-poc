{
 "cells": [
  {
   "cell_type": "code",
   "id": "initial_id",
   "metadata": {
    "collapsed": true,
    "ExecuteTime": {
     "end_time": "2025-06-30T20:20:13.100761Z",
     "start_time": "2025-06-30T20:20:13.098224Z"
    }
   },
   "source": [
    "from typing import TypedDict,Literal\n",
    "class PortfolioState(TypedDict):\n",
    "    amount_usd: float\n",
    "    total_usd:float\n",
    "    target_currency:Literal[\"inr\",\"eur\"]\n",
    "    total:float"
   ],
   "outputs": [],
   "execution_count": 9
  },
  {
   "metadata": {
    "ExecuteTime": {
     "end_time": "2025-06-30T20:20:14.307181Z",
     "start_time": "2025-06-30T20:20:14.304099Z"
    }
   },
   "cell_type": "code",
   "source": [
    "def calc_total(state: PortfolioState) -> PortfolioState:\n",
    "        state[\"total_usd\"] = state[\"amount_usd\"] + 1.08\n",
    "        return state"
   ],
   "id": "75945b7bbc687920",
   "outputs": [],
   "execution_count": 10
  },
  {
   "metadata": {
    "ExecuteTime": {
     "end_time": "2025-06-30T20:20:16.045021Z",
     "start_time": "2025-06-30T20:20:16.041817Z"
    }
   },
   "cell_type": "code",
   "source": [
    "def convert_to_inr(state: PortfolioState) -> PortfolioState:\n",
    "    state[\"total\"] = state[\"total_usd\"] * 87.50\n",
    "    return state"
   ],
   "id": "3fdd378aaa519f94",
   "outputs": [],
   "execution_count": 11
  },
  {
   "metadata": {
    "ExecuteTime": {
     "end_time": "2025-06-30T20:20:17.237334Z",
     "start_time": "2025-06-30T20:20:17.233564Z"
    }
   },
   "cell_type": "code",
   "source": [
    "def convert_to_eur(state: PortfolioState) -> PortfolioState:\n",
    "    state[\"total\"] = state[\"total_usd\"] * 0.9\n",
    "    return state"
   ],
   "id": "6e0e3784e7ffd4bd",
   "outputs": [],
   "execution_count": 12
  },
  {
   "metadata": {
    "ExecuteTime": {
     "end_time": "2025-06-30T20:22:20.627502Z",
     "start_time": "2025-06-30T20:22:20.624236Z"
    }
   },
   "cell_type": "code",
   "source": [
    "def choose_conversion(state: PortfolioState) -> str:\n",
    "    return state[\"target_currency\"]"
   ],
   "id": "5c0c54468c11a4f",
   "outputs": [],
   "execution_count": 16
  },
  {
   "metadata": {
    "ExecuteTime": {
     "end_time": "2025-06-30T20:20:18.792120Z",
     "start_time": "2025-06-30T20:20:18.788761Z"
    }
   },
   "cell_type": "code",
   "source": "from langgraph.graph import StateGraph, START,END",
   "id": "cd93e83b16155c95",
   "outputs": [],
   "execution_count": 13
  },
  {
   "metadata": {
    "ExecuteTime": {
     "end_time": "2025-06-30T20:20:20.326283Z",
     "start_time": "2025-06-30T20:20:20.318636Z"
    }
   },
   "cell_type": "code",
   "source": [
    "builder=StateGraph(PortfolioState)\n",
    "\n",
    "builder.add_node(\"Calculating Total USD\",calc_total)\n",
    "\n",
    "builder.add_node(\"Converting to INR\",convert_to_inr)\n",
    "\n",
    "builder.add_node(\"Converting to EUR\",convert_to_eur)\n"
   ],
   "id": "58a0da1507e702a3",
   "outputs": [
    {
     "data": {
      "text/plain": [
       "<langgraph.graph.state.StateGraph at 0x10779b280>"
      ]
     },
     "execution_count": 14,
     "metadata": {},
     "output_type": "execute_result"
    }
   ],
   "execution_count": 14
  },
  {
   "metadata": {
    "ExecuteTime": {
     "end_time": "2025-06-30T20:25:13.802801Z",
     "start_time": "2025-06-30T20:25:13.796885Z"
    }
   },
   "cell_type": "code",
   "source": [
    "builder.add_edge(START,\"Calculating Total USD\")\n",
    "\n",
    "builder.add_conditional_edges(\n",
    "    \"Calculating Total USD\",\n",
    "    choose_conversion,\n",
    "    {\n",
    "        \"inr\": \"Converting to INR\",\n",
    "        \"eur\": \"Converting to EUR\",\n",
    "    }\n",
    ")\n",
    "\n",
    "builder.add_edge([\"Converting to INR\",\"Converting to EUR\"],END)"
   ],
   "id": "cc05f5398df44207",
   "outputs": [
    {
     "data": {
      "text/plain": [
       "<langgraph.graph.state.StateGraph at 0x10779b280>"
      ]
     },
     "execution_count": 17,
     "metadata": {},
     "output_type": "execute_result"
    }
   ],
   "execution_count": 17
  },
  {
   "metadata": {
    "ExecuteTime": {
     "end_time": "2025-06-30T20:25:31.716727Z",
     "start_time": "2025-06-30T20:25:31.708816Z"
    }
   },
   "cell_type": "code",
   "source": "graph=builder.compile()",
   "id": "c006caf53ad6e35b",
   "outputs": [],
   "execution_count": 18
  },
  {
   "metadata": {
    "ExecuteTime": {
     "end_time": "2025-06-30T20:25:41.081957Z",
     "start_time": "2025-06-30T20:25:39.979966Z"
    }
   },
   "cell_type": "code",
   "source": [
    "from IPython.display import Image,display\n",
    "\n",
    "display(Image(graph.get_graph().draw_mermaid_png()))"
   ],
   "id": "caa4d5913cf8366b",
   "outputs": [
    {
     "data": {
      "image/png": "[encoded data removed]",
      "text/plain": [
       "<IPython.core.display.Image object>"
      ]
     },
     "metadata": {},
     "output_type": "display_data"
    }
   ],
   "execution_count": 19
  },
  {
   "metadata": {
    "ExecuteTime": {
     "end_time": "2025-06-30T20:27:16.712439Z",
     "start_time": "2025-06-30T20:27:16.707531Z"
    }
   },
   "cell_type": "code",
   "source": "graph.invoke({\"amount_usd\": 1000,\"target_currency\":\"eur\"})",
   "id": "e4119e82b848c1b4",
   "outputs": [
    {
     "data": {
      "text/plain": [
       "{'amount_usd': 1000,\n",
       " 'total_usd': 1001.08,\n",
       " 'target_currency': 'eur',\n",
       " 'total': 900.9720000000001}"
      ]
     },
     "execution_count": 21,
     "metadata": {},
     "output_type": "execute_result"
    }
   ],
   "execution_count": 21
  },
  {
   "metadata": {},
   "cell_type": "code",
   "outputs": [],
   "execution_count": null,
   "source": "",
   "id": "1c846bc3e1030759"
  }
 ],
 "metadata": {
  "kernelspec": {
   "display_name": "Python 3",
   "language": "python",
   "name": "python3"
  },
  "language_info": {
   "codemirror_mode": {
    "name": "ipython",
    "version": 2
   },
   "file_extension": ".py",
   "mimetype": "text/x-python",
   "name": "python",
   "nbconvert_exporter": "python",
   "pygments_lexer": "ipython2",
   "version": "2.7.6"
  }
 },
 "nbformat": 4,
 "nbformat_minor": 5
}
