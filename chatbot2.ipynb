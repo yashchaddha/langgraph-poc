{
 "cells": [
  {
   "cell_type": "code",
   "id": "initial_id",
   "metadata": {
    "collapsed": true,
    "ExecuteTime": {
     "end_time": "2025-06-30T21:59:47.738789Z",
     "start_time": "2025-06-30T21:59:47.732857Z"
    }
   },
   "source": [
    "from dotenv import load_dotenv\n",
    "load_dotenv()\n",
    "\n",
    "from typing import Annotated\n",
    "from typing_extensions import TypedDict\n",
    "from langgraph.graph import StateGraph,START,END\n",
    "from langgraph.graph.message import add_messages"
   ],
   "outputs": [],
   "execution_count": 21
  },
  {
   "metadata": {
    "ExecuteTime": {
     "end_time": "2025-06-30T21:20:52.581939Z",
     "start_time": "2025-06-30T21:20:52.539535Z"
    }
   },
   "cell_type": "code",
   "source": "from langchain.chat_models import ChatOpenAI",
   "id": "100a22a8a9aaa39f",
   "outputs": [],
   "execution_count": 3
  },
  {
   "metadata": {
    "ExecuteTime": {
     "end_time": "2025-06-30T21:38:06.310841Z",
     "start_time": "2025-06-30T21:38:06.294932Z"
    }
   },
   "cell_type": "code",
   "source": [
    "llm = ChatOpenAI(model=\"gpt-4o-mini\")  # You can also use \"gpt-4\" if you have access\n",
    "\n",
    "#llm.invoke(\"Hello, how are you?\")"
   ],
   "id": "704c9f7b9a2eee7c",
   "outputs": [],
   "execution_count": 11
  },
  {
   "metadata": {},
   "cell_type": "markdown",
   "source": "Note: The required packages `python-dotenv`, `openai`, and `langchain` need to be installed first. The installation cell is added at the beginning of the notebook.",
   "id": "6f78b35b3fca485d"
  },
  {
   "metadata": {
    "ExecuteTime": {
     "end_time": "2025-06-30T21:59:49.742043Z",
     "start_time": "2025-06-30T21:59:49.738302Z"
    }
   },
   "cell_type": "code",
   "source": [
    "class State(TypedDict):\n",
    "    messages:Annotated[list,add_messages]\n",
    "\n",
    "def chatbot(state:State)->State:\n",
    "    return {\"messages\":[llm.invoke(state[\"messages\"])]}"
   ],
   "id": "e04ac170d1ccf204",
   "outputs": [],
   "execution_count": 22
  },
  {
   "metadata": {
    "ExecuteTime": {
     "end_time": "2025-06-30T22:00:16.792099Z",
     "start_time": "2025-06-30T22:00:16.786029Z"
    }
   },
   "cell_type": "code",
   "source": [
    "builder=StateGraph(State)\n",
    "builder.add_node(\"chatbot_node\",chatbot)\n",
    "\n",
    "builder.add_edge(START,\"chatbot_node\")\n",
    "builder.add_edge(\"chatbot_node\",END)\n"
   ],
   "id": "590b688d065c2463",
   "outputs": [
    {
     "data": {
      "text/plain": [
       "<langgraph.graph.state.StateGraph at 0x10a8f8340>"
      ]
     },
     "execution_count": 23,
     "metadata": {},
     "output_type": "execute_result"
    }
   ],
   "execution_count": 23
  },
  {
   "metadata": {
    "ExecuteTime": {
     "end_time": "2025-06-30T22:00:18.708750Z",
     "start_time": "2025-06-30T22:00:18.705507Z"
    }
   },
   "cell_type": "code",
   "source": "graph=builder.compile()",
   "id": "beba6ce11f15cf68",
   "outputs": [],
   "execution_count": 24
  },
  {
   "metadata": {
    "ExecuteTime": {
     "end_time": "2025-06-30T22:00:20.210318Z",
     "start_time": "2025-06-30T22:00:19.553927Z"
    }
   },
   "cell_type": "code",
   "source": [
    "from IPython.display import Image,display\n",
    "\n",
    "display(Image(graph.get_graph().draw_mermaid_png()))"
   ],
   "id": "cb74abbc26aad031",
   "outputs": [
    {
     "data": {
      "image/png": "[encoded data removed]",
      "text/plain": [
       "<IPython.core.display.Image object>"
      ]
     },
     "metadata": {},
     "output_type": "display_data"
    }
   ],
   "execution_count": 25
  },
  {
   "metadata": {
    "ExecuteTime": {
     "end_time": "2025-06-30T22:00:24.328041Z",
     "start_time": "2025-06-30T22:00:22.155268Z"
    }
   },
   "cell_type": "code",
   "source": [
    "message={\"role\":\"user\",\"content\":\"Who was the first person to walk on the Moon?\"}\n",
    "response=graph.invoke({\"messages\":[message]})\n",
    "\n",
    "response[\"messages\"]"
   ],
   "id": "268f06125d8365a3",
   "outputs": [
    {
     "data": {
      "text/plain": [
       "[HumanMessage(content='Who was the first person to walk on the Moon?', additional_kwargs={}, response_metadata={}, id='842d236a-25a8-40dd-9cc8-2ed21f62ef24'),\n",
       " AIMessage(content='The first person to walk on the Moon was Neil Armstrong. He took his historic step on July 20, 1969, during NASA\\'s Apollo 11 mission. Armstrong famously described the moment as \"one small step for [a] man, one giant leap for mankind.\"', additional_kwargs={}, response_metadata={'token_usage': {'completion_tokens': 56, 'prompt_tokens': 18, 'total_tokens': 74, 'completion_tokens_details': {'accepted_prediction_tokens': 0, 'audio_tokens': 0, 'reasoning_tokens': 0, 'rejected_prediction_tokens': 0}, 'prompt_tokens_details': {'audio_tokens': 0, 'cached_tokens': 0}}, 'model_name': 'gpt-4o-mini', 'system_fingerprint': 'fp_34a54ae93c', 'finish_reason': 'stop', 'logprobs': None}, id='run--5174b4f6-09e8-40ba-adf1-c55c5b470167-0')]"
      ]
     },
     "execution_count": 26,
     "metadata": {},
     "output_type": "execute_result"
    }
   ],
   "execution_count": 26
  },
  {
   "metadata": {
    "ExecuteTime": {
     "end_time": "2025-06-30T22:15:13.827850Z",
     "start_time": "2025-06-30T22:14:01.261084Z"
    }
   },
   "cell_type": "code",
   "source": [
    "state=None\n",
    "while True:\n",
    "    in_message=input(\"Enter your message: \")\n",
    "    if in_message.lower() in {\"quit\",\"exit\"}:\n",
    "        break\n",
    "    if state is None:\n",
    "        state: State={\n",
    "            \"messages\":[{\"role\":\"user\",\"content\":in_message}]\n",
    "        }\n",
    "    else:\n",
    "        state[\"messages\"].append({\"role\":\"user\",\"content\":in_message})\n",
    "\n",
    "    state=graph.invoke(state)\n",
    "    print(\"Yash's Agent:\", state[\"messages\"][-1].content)\n"
   ],
   "id": "9dfb217b4466b6b1",
   "outputs": [
    {
     "name": "stdout",
     "output_type": "stream",
     "text": [
      "Yash's Agent: The value of π (pi) is approximately 3.14159. It is a mathematical constant representing the ratio of a circle's circumference to its diameter. Pi is an irrational number, meaning it has an infinite number of non-repeating decimal places. In many calculations, it is often rounded to 3.14 or expressed as a fraction, such as 22/7, although 22/7 is only an approximation.\n",
      "Yash's Agent: Thank you for asking! As an AI, I don't have feelings or experiences, but I'm here and ready to assist you. How can I help you today?\n",
      "Yash's Agent: The value of π (pi) is approximately 3.14159. It represents the ratio of the circumference of a circle to its diameter. Pi is an irrational number, which means it has an infinite number of non-repeating decimal places. It is commonly used in mathematics and engineering. If you need more specific information or applications regarding pi, feel free to ask!\n"
     ]
    }
   ],
   "execution_count": 31
  }
 ],
 "metadata": {
  "kernelspec": {
   "display_name": "Python 3",
   "language": "python",
   "name": "python3"
  },
  "language_info": {
   "codemirror_mode": {
    "name": "ipython",
    "version": 2
   },
   "file_extension": ".py",
   "mimetype": "text/x-python",
   "name": "python",
   "nbconvert_exporter": "python",
   "pygments_lexer": "ipython2",
   "version": "2.7.6"
  }
 },
 "nbformat": 4,
 "nbformat_minor": 5
}
