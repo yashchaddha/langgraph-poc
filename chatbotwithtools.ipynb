{
 "cells": [
  {
   "metadata": {
    "ExecuteTime": {
     "end_time": "2025-07-01T00:32:38.166460Z",
     "start_time": "2025-07-01T00:32:32.052636Z"
    }
   },
   "cell_type": "code",
   "source": [
    "from typing import Annotated\n",
    "from typing_extensions import TypedDict\n",
    "from langchain.tools import tool\n",
    "from langchain.chat_models import ChatOpenAI\n",
    "from langchain.agents import initialize_agent, AgentType\n",
    "\n",
    "class State(TypedDict):\n",
    "    messages: Annotated[list, add_messages]\n",
    "\n",
    "@tool\n",
    "def get_stock_price(symbol: str) -> float:\n",
    "    '''Return the current price of a stock given the stock symbol\n",
    "    :param symbol: stock symbol\n",
    "    :return: current price of the stock\n",
    "    '''\n",
    "    return {\"MSFT\":200.3, \"AAPL\":100.4, \"AMZN\":150.0}.get(symbol.upper(),0.0)\n",
    "\n",
    "llm   = ChatOpenAI(model_name=\"gpt-4o-mini\", temperature=0)\n",
    "tools = [get_stock_price]\n",
    "agent = initialize_agent(tools, llm, agent=AgentType.ZERO_SHOT_REACT_DESCRIPTION, verbose=True)\n",
    "\n",
    "# Then you can just do:\n",
    "response = agent.run(\"How much should I pay, if i need to buy 20 AMZN stocks and 15 MSFT stocks, what is the total cost of the purchase?\")\n",
    "print(response)\n"
   ],
   "id": "8bbc0c3db580fbca",
   "outputs": [
    {
     "name": "stdout",
     "output_type": "stream",
     "text": [
      "\n",
      "\n",
      "\u001B[1m> Entering new AgentExecutor chain...\u001B[0m\n",
      "\u001B[32;1m\u001B[1;3mTo find the total cost of purchasing 20 AMZN stocks and 15 MSFT stocks, I need to first get the current prices of both AMZN and MSFT stocks. Then, I can calculate the total cost by multiplying the number of stocks by their respective prices and summing the results.\n",
      "\n",
      "Action: get_stock_price\n",
      "Action Input: \"AMZN\"\u001B[0m\n",
      "Observation: \u001B[36;1m\u001B[1;3m150.0\u001B[0m\n",
      "Thought:\u001B[32;1m\u001B[1;3mI have the current price of AMZN stock, which is $150.0. Now, I need to get the current price of MSFT stock to proceed with the calculation.\n",
      "\n",
      "Action: get_stock_price  \n",
      "Action Input: \"MSFT\"  \u001B[0m\n",
      "Observation: \u001B[36;1m\u001B[1;3m200.3\u001B[0m\n",
      "Thought:\u001B[32;1m\u001B[1;3mI have the current price of MSFT stock, which is $200.3. Now I can calculate the total cost of purchasing 20 AMZN stocks and 15 MSFT stocks.\n",
      "\n",
      "Calculating the total cost:\n",
      "- Cost of 20 AMZN stocks = 20 * 150.0 = 3000.0\n",
      "- Cost of 15 MSFT stocks = 15 * 200.3 = 3004.5\n",
      "\n",
      "Total cost = 3000.0 + 3004.5 = 6004.5\n",
      "\n",
      "Thought: I now know the final answer.\n",
      "Final Answer: The total cost of purchasing 20 AMZN stocks and 15 MSFT stocks is $6004.5.\u001B[0m\n",
      "\n",
      "\u001B[1m> Finished chain.\u001B[0m\n",
      "The total cost of purchasing 20 AMZN stocks and 15 MSFT stocks is $6004.5.\n"
     ]
    }
   ],
   "execution_count": 106
  },
  {
   "metadata": {},
   "cell_type": "code",
   "outputs": [],
   "execution_count": null,
   "source": "",
   "id": "1c6bf56d77e3b39b"
  }
 ],
 "metadata": {
  "kernelspec": {
   "display_name": "Python 3",
   "language": "python",
   "name": "python3"
  },
  "language_info": {
   "codemirror_mode": {
    "name": "ipython",
    "version": 2
   },
   "file_extension": ".py",
   "mimetype": "text/x-python",
   "name": "python",
   "nbconvert_exporter": "python",
   "pygments_lexer": "ipython2",
   "version": "2.7.6"
  }
 },
 "nbformat": 4,
 "nbformat_minor": 5
}
